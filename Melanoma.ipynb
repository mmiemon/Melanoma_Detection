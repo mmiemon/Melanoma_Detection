{
  "nbformat": 4,
  "nbformat_minor": 0,
  "metadata": {
    "colab": {
      "name": "Melanoma.ipynb",
      "version": "0.3.2",
      "provenance": [],
      "collapsed_sections": [],
      "include_colab_link": true
    },
    "kernelspec": {
      "name": "python3",
      "display_name": "Python 3"
    },
    "accelerator": "GPU"
  },
  "cells": [
    {
      "cell_type": "markdown",
      "metadata": {
        "id": "view-in-github",
        "colab_type": "text"
      },
      "source": [
        "<a href=\"https://colab.research.google.com/github/mmiemon/Melanoma_Detection/blob/master/Melanoma.ipynb\" target=\"_parent\"><img src=\"https://colab.research.google.com/assets/colab-badge.svg\" alt=\"Open In Colab\"/></a>"
      ]
    },
    {
      "cell_type": "code",
      "metadata": {
        "id": "c6vrToXGnuZ1",
        "colab_type": "code",
        "outputId": "081ed9ad-fde7-4324-985c-e4ce3f53a209",
        "colab": {
          "base_uri": "https://localhost:8080/",
          "height": 211
        }
      },
      "source": [
        "!wget http://www.cs.rug.nl/~imaging/databases/melanoma_naevi/complete_mednode_dataset.zip"
      ],
      "execution_count": 0,
      "outputs": [
        {
          "output_type": "stream",
          "text": [
            "--2019-07-13 13:59:21--  http://www.cs.rug.nl/~imaging/databases/melanoma_naevi/complete_mednode_dataset.zip\n",
            "Resolving www.cs.rug.nl (www.cs.rug.nl)... 129.125.2.101, 2001:610:1a08:292:129:125:2:101\n",
            "Connecting to www.cs.rug.nl (www.cs.rug.nl)|129.125.2.101|:80... connected.\n",
            "HTTP request sent, awaiting response... 200 OK\n",
            "Length: 25864871 (25M) [application/zip]\n",
            "Saving to: ‘complete_mednode_dataset.zip’\n",
            "\n",
            "complete_mednode_da 100%[===================>]  24.67M   601KB/s    in 42s     \n",
            "\n",
            "2019-07-13 14:00:04 (603 KB/s) - ‘complete_mednode_dataset.zip’ saved [25864871/25864871]\n",
            "\n"
          ],
          "name": "stdout"
        }
      ]
    },
    {
      "cell_type": "code",
      "metadata": {
        "id": "Lw2sH1FvoYwU",
        "colab_type": "code",
        "outputId": "2b423f49-a204-4b02-ab17-45b3ee592e6a",
        "colab": {
          "base_uri": "https://localhost:8080/",
          "height": 35
        }
      },
      "source": [
        "ls"
      ],
      "execution_count": 0,
      "outputs": [
        {
          "output_type": "stream",
          "text": [
            "complete_mednode_dataset.zip  \u001b[0m\u001b[01;34msample_data\u001b[0m/\n"
          ],
          "name": "stdout"
        }
      ]
    },
    {
      "cell_type": "code",
      "metadata": {
        "id": "T17IWpDXoqC0",
        "colab_type": "code",
        "outputId": "f26e7537-e886-43a1-a8cb-6d32510d81ae",
        "colab": {
          "base_uri": "https://localhost:8080/",
          "height": 1000
        }
      },
      "source": [
        "!unzip complete_mednode_dataset.zip"
      ],
      "execution_count": 0,
      "outputs": [
        {
          "output_type": "stream",
          "text": [
            "Archive:  complete_mednode_dataset.zip\n",
            "   creating: complete_mednode_dataset/\n",
            "   creating: complete_mednode_dataset/melanoma/\n",
            "  inflating: complete_mednode_dataset/melanoma/136733.jpg  \n",
            "  inflating: complete_mednode_dataset/melanoma/154372.jpg  \n",
            "  inflating: complete_mednode_dataset/melanoma/16175.jpg  \n",
            "  inflating: complete_mednode_dataset/melanoma/1651872.jpg  \n",
            "  inflating: complete_mednode_dataset/melanoma/1657793.jpg  \n",
            "  inflating: complete_mednode_dataset/melanoma/1685446.jpg  \n",
            "  inflating: complete_mednode_dataset/melanoma/1698285.jpg  \n",
            "  inflating: complete_mednode_dataset/melanoma/1732302.jpg  \n",
            "  inflating: complete_mednode_dataset/melanoma/1753755.jpg  \n",
            "  inflating: complete_mednode_dataset/melanoma/1759904.jpg  \n",
            " extracting: complete_mednode_dataset/melanoma/1761976-h.jpg  \n",
            "  inflating: complete_mednode_dataset/melanoma/1834988.jpg  \n",
            "  inflating: complete_mednode_dataset/melanoma/189827.jpg  \n",
            "  inflating: complete_mednode_dataset/melanoma/1908473-h.jpg  \n",
            "  inflating: complete_mednode_dataset/melanoma/1921282.jpg  \n",
            "  inflating: complete_mednode_dataset/melanoma/200823.jpg  \n",
            "  inflating: complete_mednode_dataset/melanoma/204176-h.jpg  \n",
            "  inflating: complete_mednode_dataset/melanoma/2050866.jpg  \n",
            "  inflating: complete_mednode_dataset/melanoma/2068850.jpg  \n",
            "  inflating: complete_mednode_dataset/melanoma/2070249.jpg  \n",
            "  inflating: complete_mednode_dataset/melanoma/2073001.jpg  \n",
            "  inflating: complete_mednode_dataset/melanoma/2093897.jpg  \n",
            "  inflating: complete_mednode_dataset/melanoma/2101441.jpg  \n",
            "  inflating: complete_mednode_dataset/melanoma/2113041.jpg  \n",
            "  inflating: complete_mednode_dataset/melanoma/2128172.jpg  \n",
            " extracting: complete_mednode_dataset/melanoma/2130113.jpg  \n",
            "  inflating: complete_mednode_dataset/melanoma/2143742.jpg  \n",
            "  inflating: complete_mednode_dataset/melanoma/2150201.jpg  \n",
            "  inflating: complete_mednode_dataset/melanoma/2183884.jpg  \n",
            "  inflating: complete_mednode_dataset/melanoma/2190031.jpg  \n",
            "  inflating: complete_mednode_dataset/melanoma/2216854.jpg  \n",
            "  inflating: complete_mednode_dataset/melanoma/2234484-h.jpg  \n",
            "  inflating: complete_mednode_dataset/melanoma/226555.jpg  \n",
            "  inflating: complete_mednode_dataset/melanoma/231682.jpg  \n",
            "  inflating: complete_mednode_dataset/melanoma/236042-h.jpg  \n",
            "  inflating: complete_mednode_dataset/melanoma/236936.jpg  \n",
            "  inflating: complete_mednode_dataset/melanoma/252641.jpg  \n",
            "  inflating: complete_mednode_dataset/melanoma/257160-h.jpg  \n",
            "  inflating: complete_mednode_dataset/melanoma/258242.jpg  \n",
            "  inflating: complete_mednode_dataset/melanoma/258765.jpg  \n",
            "  inflating: complete_mednode_dataset/melanoma/268766.jpg  \n",
            "  inflating: complete_mednode_dataset/melanoma/269965.jpg  \n",
            "  inflating: complete_mednode_dataset/melanoma/2827.jpg  \n",
            "  inflating: complete_mednode_dataset/melanoma/294186.jpg  \n",
            "  inflating: complete_mednode_dataset/melanoma/307150.jpg  \n",
            "  inflating: complete_mednode_dataset/melanoma/325519.jpg  \n",
            "  inflating: complete_mednode_dataset/melanoma/343673.jpg  \n",
            "  inflating: complete_mednode_dataset/melanoma/346822-h.jpg  \n",
            "  inflating: complete_mednode_dataset/melanoma/348704.jpg  \n",
            "  inflating: complete_mednode_dataset/melanoma/351510-h.jpg  \n",
            "  inflating: complete_mednode_dataset/melanoma/351512-h.jpg  \n",
            "  inflating: complete_mednode_dataset/melanoma/359117.jpg  \n",
            "  inflating: complete_mednode_dataset/melanoma/363475.jpg  \n",
            "  inflating: complete_mednode_dataset/melanoma/369664.jpg  \n",
            "  inflating: complete_mednode_dataset/melanoma/379222.jpg  \n",
            "  inflating: complete_mednode_dataset/melanoma/394854.jpg  \n",
            "  inflating: complete_mednode_dataset/melanoma/400837.jpg  \n",
            "  inflating: complete_mednode_dataset/melanoma/408295.jpg  \n",
            "  inflating: complete_mednode_dataset/melanoma/432078.jpg  \n",
            "  inflating: complete_mednode_dataset/melanoma/503496.jpg  \n",
            "  inflating: complete_mednode_dataset/melanoma/512681-h.jpg  \n",
            "  inflating: complete_mednode_dataset/melanoma/521443.jpg  \n",
            "  inflating: complete_mednode_dataset/melanoma/550952.jpg  \n",
            "  inflating: complete_mednode_dataset/melanoma/555361-h.jpg  \n",
            "  inflating: complete_mednode_dataset/melanoma/561152-h.jpg  \n",
            "  inflating: complete_mednode_dataset/melanoma/586355.jpg  \n",
            "  inflating: complete_mednode_dataset/melanoma/608702.jpg  \n",
            "  inflating: complete_mednode_dataset/melanoma/610149.jpg  \n",
            "  inflating: complete_mednode_dataset/melanoma/625759.jpg  \n",
            "  inflating: complete_mednode_dataset/melanoma/896.jpg  \n",
            "   creating: complete_mednode_dataset/naevus/\n",
            "  inflating: complete_mednode_dataset/naevus/132357.jpg  \n",
            "  inflating: complete_mednode_dataset/naevus/151560-h.jpg  \n",
            "  inflating: complete_mednode_dataset/naevus/156136.jpg  \n",
            "  inflating: complete_mednode_dataset/naevus/159033.jpg  \n",
            "  inflating: complete_mednode_dataset/naevus/162029.jpg  \n",
            "  inflating: complete_mednode_dataset/naevus/163067.jpg  \n",
            "  inflating: complete_mednode_dataset/naevus/165021.jpg  \n",
            "  inflating: complete_mednode_dataset/naevus/1697738.jpg  \n",
            "  inflating: complete_mednode_dataset/naevus/170216.jpg  \n",
            "  inflating: complete_mednode_dataset/naevus/174267.jpg  \n",
            "  inflating: complete_mednode_dataset/naevus/19085.jpg  \n",
            "  inflating: complete_mednode_dataset/naevus/194942.jpg  \n",
            "  inflating: complete_mednode_dataset/naevus/194946.jpg  \n",
            "  inflating: complete_mednode_dataset/naevus/202700-h.jpg  \n",
            "  inflating: complete_mednode_dataset/naevus/2055339.jpg  \n",
            "  inflating: complete_mednode_dataset/naevus/2084031.jpg  \n",
            "  inflating: complete_mednode_dataset/naevus/2085285.jpg  \n",
            "  inflating: complete_mednode_dataset/naevus/2085287.jpg  \n",
            "  inflating: complete_mednode_dataset/naevus/2097673.jpg  \n",
            "  inflating: complete_mednode_dataset/naevus/2098348.jpg  \n",
            "  inflating: complete_mednode_dataset/naevus/2104146.jpg  \n",
            "  inflating: complete_mednode_dataset/naevus/2111038.jpg  \n",
            "  inflating: complete_mednode_dataset/naevus/2138627.jpg  \n",
            "  inflating: complete_mednode_dataset/naevus/21457.jpg  \n",
            "  inflating: complete_mednode_dataset/naevus/2159198.jpg  \n",
            "  inflating: complete_mednode_dataset/naevus/2160810.jpg  \n",
            "  inflating: complete_mednode_dataset/naevus/2161172.jpg  \n",
            "  inflating: complete_mednode_dataset/naevus/2162992-h.jpg  \n",
            "  inflating: complete_mednode_dataset/naevus/2162995.jpg  \n",
            "  inflating: complete_mednode_dataset/naevus/2166853.jpg  \n",
            "  inflating: complete_mednode_dataset/naevus/2167180.jpg  \n",
            "  inflating: complete_mednode_dataset/naevus/2168356-h.jpg  \n",
            "  inflating: complete_mednode_dataset/naevus/2168363.jpg  \n",
            "  inflating: complete_mednode_dataset/naevus/2168366-h.jpg  \n",
            "  inflating: complete_mednode_dataset/naevus/2168397.jpg  \n",
            "  inflating: complete_mednode_dataset/naevus/21821.jpg  \n",
            "  inflating: complete_mednode_dataset/naevus/2191579.jpg  \n",
            "  inflating: complete_mednode_dataset/naevus/2191631.jpg  \n",
            "  inflating: complete_mednode_dataset/naevus/2191634.jpg  \n",
            "  inflating: complete_mednode_dataset/naevus/2191673.jpg  \n",
            "  inflating: complete_mednode_dataset/naevus/2191699-h.jpg  \n",
            "  inflating: complete_mednode_dataset/naevus/2191726.jpg  \n",
            "  inflating: complete_mednode_dataset/naevus/2192103.jpg  \n",
            "  inflating: complete_mednode_dataset/naevus/2192661-h.jpg  \n",
            "  inflating: complete_mednode_dataset/naevus/2195219-h.jpg  \n",
            "  inflating: complete_mednode_dataset/naevus/2197027.jpg  \n",
            "  inflating: complete_mednode_dataset/naevus/2197584.jpg  \n",
            "  inflating: complete_mednode_dataset/naevus/2197588.jpg  \n",
            "  inflating: complete_mednode_dataset/naevus/2197724.jpg  \n",
            "  inflating: complete_mednode_dataset/naevus/2197727.jpg  \n",
            "  inflating: complete_mednode_dataset/naevus/2199594.jpg  \n",
            "  inflating: complete_mednode_dataset/naevus/2202309-h.jpg  \n",
            "  inflating: complete_mednode_dataset/naevus/2203331-h.jpg  \n",
            "  inflating: complete_mednode_dataset/naevus/2203387.jpg  \n",
            "  inflating: complete_mednode_dataset/naevus/2206231.jpg  \n",
            "  inflating: complete_mednode_dataset/naevus/2207655.jpg  \n",
            "  inflating: complete_mednode_dataset/naevus/2209992-h.jpg  \n",
            "  inflating: complete_mednode_dataset/naevus/2210466.jpg  \n",
            "  inflating: complete_mednode_dataset/naevus/2211094.jpg  \n",
            "  inflating: complete_mednode_dataset/naevus/2212044.jpg  \n",
            "  inflating: complete_mednode_dataset/naevus/2212220-h.jpg  \n",
            "  inflating: complete_mednode_dataset/naevus/2212282.jpg  \n",
            "  inflating: complete_mednode_dataset/naevus/2212286.jpg  \n",
            "  inflating: complete_mednode_dataset/naevus/2214437.jpg  \n",
            "  inflating: complete_mednode_dataset/naevus/2214473.jpg  \n",
            "  inflating: complete_mednode_dataset/naevus/2214497.jpg  \n",
            "  inflating: complete_mednode_dataset/naevus/2214532.jpg  \n",
            "  inflating: complete_mednode_dataset/naevus/2214693.jpg  \n",
            "  inflating: complete_mednode_dataset/naevus/2215612.jpg  \n",
            "  inflating: complete_mednode_dataset/naevus/2215759.jpg  \n",
            "  inflating: complete_mednode_dataset/naevus/2222452.jpg  \n",
            "  inflating: complete_mednode_dataset/naevus/2223024.jpg  \n",
            "  inflating: complete_mednode_dataset/naevus/2225011-h.jpg  \n",
            "  inflating: complete_mednode_dataset/naevus/2235905.jpg  \n",
            "  inflating: complete_mednode_dataset/naevus/223638.jpg  \n",
            "  inflating: complete_mednode_dataset/naevus/2246052.jpg  \n",
            "  inflating: complete_mednode_dataset/naevus/2246055.jpg  \n",
            "  inflating: complete_mednode_dataset/naevus/2249532.jpg  \n",
            "  inflating: complete_mednode_dataset/naevus/232221.jpg  \n",
            "  inflating: complete_mednode_dataset/naevus/23559.jpg  \n",
            "  inflating: complete_mednode_dataset/naevus/254043.jpg  \n",
            "  inflating: complete_mednode_dataset/naevus/255780.jpg  \n",
            "  inflating: complete_mednode_dataset/naevus/256908-h.jpg  \n",
            "  inflating: complete_mednode_dataset/naevus/315917.jpg  \n",
            "  inflating: complete_mednode_dataset/naevus/321466.jpg  \n",
            "  inflating: complete_mednode_dataset/naevus/323418.jpg  \n",
            "  inflating: complete_mednode_dataset/naevus/324813-h.jpg  \n",
            "  inflating: complete_mednode_dataset/naevus/394602.jpg  \n",
            "  inflating: complete_mednode_dataset/naevus/411966.jpg  \n",
            "  inflating: complete_mednode_dataset/naevus/412184.jpg  \n",
            "  inflating: complete_mednode_dataset/naevus/415295.jpg  \n",
            "  inflating: complete_mednode_dataset/naevus/415879.jpg  \n",
            "  inflating: complete_mednode_dataset/naevus/416266-h.jpg  \n",
            "  inflating: complete_mednode_dataset/naevus/433215.jpg  \n",
            "  inflating: complete_mednode_dataset/naevus/457838.jpg  \n",
            "  inflating: complete_mednode_dataset/naevus/458192.jpg  \n",
            "  inflating: complete_mednode_dataset/naevus/497621.jpg  \n",
            "  inflating: complete_mednode_dataset/naevus/499701.jpg  \n",
            "  inflating: complete_mednode_dataset/naevus/515125.jpg  \n",
            "  inflating: complete_mednode_dataset/naevus/587862-h.jpg  \n"
          ],
          "name": "stdout"
        }
      ]
    },
    {
      "cell_type": "code",
      "metadata": {
        "id": "sZTzeT8co371",
        "colab_type": "code",
        "outputId": "6d8f3126-1183-45df-8cfb-bb6fedb25915",
        "colab": {
          "base_uri": "https://localhost:8080/",
          "height": 35
        }
      },
      "source": [
        "ls"
      ],
      "execution_count": 0,
      "outputs": [
        {
          "output_type": "stream",
          "text": [
            "\u001b[0m\u001b[01;34mcomplete_mednode_dataset\u001b[0m/  complete_mednode_dataset.zip  \u001b[01;34msample_data\u001b[0m/\n"
          ],
          "name": "stdout"
        }
      ]
    },
    {
      "cell_type": "code",
      "metadata": {
        "id": "ebsxM2qko5xr",
        "colab_type": "code",
        "outputId": "79315b39-d425-4e03-f229-8254445152cf",
        "colab": {
          "base_uri": "https://localhost:8080/",
          "height": 35
        }
      },
      "source": [
        "import keras\n",
        "from __future__ import print_function\n",
        "from keras.models import Sequential\n",
        "from keras.layers import Dense, Dropout, Flatten\n",
        "from keras.layers import Conv2D, MaxPooling2D\n",
        "from keras import backend as K\n",
        "from keras.preprocessing.image import ImageDataGenerator"
      ],
      "execution_count": 0,
      "outputs": [
        {
          "output_type": "stream",
          "text": [
            "Using TensorFlow backend.\n"
          ],
          "name": "stderr"
        }
      ]
    },
    {
      "cell_type": "code",
      "metadata": {
        "id": "cPmNna-erd__",
        "colab_type": "code",
        "colab": {}
      },
      "source": [
        "def get_model():\n",
        "    model = Sequential()\n",
        "    model.add(Conv2D(20, (5, 5), input_shape=input_shape, activation='relu'))\n",
        "    model.add(MaxPooling2D(pool_size=(4, 4)))\n",
        "\n",
        "    model.add(Conv2D(50, (5, 5), activation='relu'))\n",
        "    model.add(MaxPooling2D(pool_size=(6, 6)))\n",
        "\n",
        "    model.add(Flatten())\n",
        "\n",
        "    model.add(Dense(num_classes, activation='softmax'))\n",
        "    \n",
        "    model.compile(loss='categorical_crossentropy',\n",
        "              optimizer='adam',\n",
        "              metrics=['accuracy'])\n",
        "    \n",
        "    return model"
      ],
      "execution_count": 0,
      "outputs": []
    },
    {
      "cell_type": "code",
      "metadata": {
        "id": "HANGdbrrsgb2",
        "colab_type": "code",
        "colab": {}
      },
      "source": [
        "import numpy as np \n",
        "import pandas as pd\n",
        "import matplotlib.pyplot as plt\n",
        "import os\n",
        "import glob\n",
        "import cv2"
      ],
      "execution_count": 0,
      "outputs": []
    },
    {
      "cell_type": "code",
      "metadata": {
        "id": "0aRsHGYws6Pq",
        "colab_type": "code",
        "colab": {}
      },
      "source": [
        "img_rows, img_cols, img_chans = 188, 188, 3\n",
        "input_shape = (img_rows, img_cols, img_chans)\n",
        "num_classes = 2"
      ],
      "execution_count": 0,
      "outputs": []
    },
    {
      "cell_type": "code",
      "metadata": {
        "id": "Oo6oi7Evura4",
        "colab_type": "code",
        "outputId": "fad8c89d-868f-431d-c4a8-91d1ed47b62b",
        "colab": {
          "base_uri": "https://localhost:8080/",
          "height": 35
        }
      },
      "source": [
        "simple_train_generator = simple_train_datagen.flow_from_directory(\n",
        "        'complete_mednode_dataset',\n",
        "        target_size=(img_rows, img_cols),\n",
        "        batch_size=10,\n",
        "        class_mode='categorical')"
      ],
      "execution_count": 0,
      "outputs": [
        {
          "output_type": "stream",
          "text": [
            "Found 170 images belonging to 2 classes.\n"
          ],
          "name": "stdout"
        }
      ]
    },
    {
      "cell_type": "code",
      "metadata": {
        "id": "23NT6QmZutFe",
        "colab_type": "code",
        "colab": {}
      },
      "source": [
        "simple_model = get_model()"
      ],
      "execution_count": 0,
      "outputs": []
    },
    {
      "cell_type": "code",
      "metadata": {
        "id": "IH2zqHO_u1zs",
        "colab_type": "code",
        "outputId": "7bbfb1d3-e861-49d4-dec1-2d921c7c31e8",
        "colab": {
          "base_uri": "https://localhost:8080/",
          "height": 721
        }
      },
      "source": [
        "history = simple_model.fit_generator(\n",
        "        simple_train_generator,\n",
        "        steps_per_epoch=17,\n",
        "        epochs=20, verbose=1)"
      ],
      "execution_count": 0,
      "outputs": [
        {
          "output_type": "stream",
          "text": [
            "Epoch 1/20\n",
            "17/17 [==============================] - 3s 157ms/step - loss: 0.6769 - acc: 0.5882\n",
            "Epoch 2/20\n",
            "17/17 [==============================] - 2s 146ms/step - loss: 0.6062 - acc: 0.6824\n",
            "Epoch 3/20\n",
            "17/17 [==============================] - 2s 146ms/step - loss: 0.5671 - acc: 0.7235\n",
            "Epoch 4/20\n",
            "17/17 [==============================] - 2s 146ms/step - loss: 0.5145 - acc: 0.7235\n",
            "Epoch 5/20\n",
            "17/17 [==============================] - 2s 145ms/step - loss: 0.4953 - acc: 0.7588\n",
            "Epoch 6/20\n",
            "17/17 [==============================] - 2s 147ms/step - loss: 0.5038 - acc: 0.7412\n",
            "Epoch 7/20\n",
            "17/17 [==============================] - 3s 147ms/step - loss: 0.4722 - acc: 0.7824\n",
            "Epoch 8/20\n",
            "17/17 [==============================] - 2s 146ms/step - loss: 0.4927 - acc: 0.7529\n",
            "Epoch 9/20\n",
            "17/17 [==============================] - 3s 147ms/step - loss: 0.5019 - acc: 0.7353\n",
            "Epoch 10/20\n",
            "17/17 [==============================] - 2s 146ms/step - loss: 0.4729 - acc: 0.7765\n",
            "Epoch 11/20\n",
            "17/17 [==============================] - 2s 146ms/step - loss: 0.4516 - acc: 0.7706\n",
            "Epoch 12/20\n",
            "17/17 [==============================] - 2s 146ms/step - loss: 0.4472 - acc: 0.8000\n",
            "Epoch 13/20\n",
            "17/17 [==============================] - 2s 146ms/step - loss: 0.4424 - acc: 0.7706\n",
            "Epoch 14/20\n",
            "17/17 [==============================] - 3s 149ms/step - loss: 0.4769 - acc: 0.7588\n",
            "Epoch 15/20\n",
            "17/17 [==============================] - 3s 150ms/step - loss: 0.4608 - acc: 0.7647\n",
            "Epoch 16/20\n",
            "17/17 [==============================] - 3s 148ms/step - loss: 0.5071 - acc: 0.7706\n",
            "Epoch 17/20\n",
            "17/17 [==============================] - 3s 149ms/step - loss: 0.5077 - acc: 0.7412\n",
            "Epoch 18/20\n",
            "17/17 [==============================] - 2s 147ms/step - loss: 0.4348 - acc: 0.8000\n",
            "Epoch 19/20\n",
            "17/17 [==============================] - 3s 147ms/step - loss: 0.4272 - acc: 0.7706\n",
            "Epoch 20/20\n",
            "17/17 [==============================] - 2s 146ms/step - loss: 0.4071 - acc: 0.8059\n"
          ],
          "name": "stdout"
        }
      ]
    },
    {
      "cell_type": "code",
      "metadata": {
        "id": "UgKxRgXAu4KZ",
        "colab_type": "code",
        "colab": {}
      },
      "source": [
        ""
      ],
      "execution_count": 0,
      "outputs": []
    }
  ]
}